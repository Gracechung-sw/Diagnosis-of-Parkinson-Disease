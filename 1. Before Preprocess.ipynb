{
 "cells": [
  {
   "cell_type": "markdown",
   "metadata": {},
   "source": [
    "# Before Preprocess\n",
    "\n",
    "참고 url\n",
    "https://www.youtube.com/watch?v=5jQVQE6yfio\n",
    "https://datascience.stackexchange.com/questions/28636/how-to-create-3d-images-from-nii-file\n",
    "\n",
    "\n",
    "스크린샷 2020-02-29 오전 12.09.41![image.png](attachment:image.png)\n",
    "\n",
    "출처: https://www.researchgate.net/publication/321986861_Applying_convolutional_neural_networks_for_pre-detection_of_alzheimer's_disease_from_structural_MRI_data\n",
    "figure 3"
   ]
  },
  {
   "cell_type": "code",
   "execution_count": null,
   "metadata": {},
   "outputs": [],
   "source": [
    "import nibabel as nib\n",
    "import matplotlib.pyplot as plt\n",
    "import numpy as np\n",
    "import os\n",
    "from glob import glob\n",
    "\n",
    "import warnings"
   ]
  },
  {
   "cell_type": "code",
   "execution_count": null,
   "metadata": {},
   "outputs": [],
   "source": [
    "brain = '/Users/jeonghyeonjeong/ds001354-download/sub-cntrl01/anat/sub-cntrl01_T1w.nii'"
   ]
  },
  {
   "cell_type": "code",
   "execution_count": null,
   "metadata": {},
   "outputs": [],
   "source": [
    "# Get nibabel image object\n",
    "brain_image = nib.load(brain)"
   ]
  },
  {
   "cell_type": "code",
   "execution_count": null,
   "metadata": {},
   "outputs": [],
   "source": [
    "type(brain_image)"
   ]
  },
  {
   "cell_type": "code",
   "execution_count": null,
   "metadata": {},
   "outputs": [],
   "source": [
    "# Get data from nibabel image object (returns numpy memmap object)\n",
    "brain_image = braim_image.get_data()\n"
   ]
  },
  {
   "cell_type": "code",
   "execution_count": null,
   "metadata": {},
   "outputs": [],
   "source": [
    "# Convert to numpy ndarray (dtype: uint16)\n",
    "brain_image_arr = np.asarray(brain_image)\n",
    "type(brain_image_arr)\n",
    "brain_image_arr.shape #(256, 256, 176)\n",
    "\n",
    "brain_image_arr[91, 180, 171:173]"
   ]
  },
  {
   "cell_type": "code",
   "execution_count": null,
   "metadata": {},
   "outputs": [],
   "source": [
    "#Plotting single images\n",
    "\n",
    "#1. Initialize figure and axes\n",
    "fig = plt.figure()\n",
    "ax = fig.add_subplot(111)\n",
    "\n",
    "#2. Plot slices of volume\n",
    "brain_slice = brain_image_arr[120, :, :]\n",
    "ax.imshow(brain_slice, cmap='gray')\n",
    "\n",
    "#3. Edit axes and display figure\n",
    "ax.axis('off')\n",
    "plt.show()\n"
   ]
  },
  {
   "cell_type": "markdown",
   "metadata": {},
   "source": [
    "plotting multiple images\n",
    "스크린샷 2020-02-29 오전 1.15.47 1![image.png](attachment:image.png)\n",
    "\n",
    "출처:  https://www.youtube.com/watch?v=5jQVQE6yfio"
   ]
  },
  {
   "cell_type": "code",
   "execution_count": null,
   "metadata": {},
   "outputs": [],
   "source": [
    "#plotting multiple images\n",
    "fig, axes = plt.subplots(nrows=1, ncols=7)\n",
    "\n",
    "slices_indicess= [100, 120, 140, 160, 180 ,200, 220]\n",
    "for ind in range(7):\n",
    "    brain_slices = brain_image_arr[slices_indicess[ind], :, :] #slice on X\n",
    "    axes[ind].imshow(brain_slices, cmap='gray')\n",
    "    axes[ind].axis('off')\n",
    "\n",
    "\n",
    "plt.show()"
   ]
  },
  {
   "cell_type": "code",
   "execution_count": null,
   "metadata": {},
   "outputs": [],
   "source": [
    "#위의 과정을 모든 이미지데이터에 진행하여야 하므로\n",
    "#모든 ctrl 의 anat 폴더에 있는 nii 이미지 데이터 가져오기\n",
    "os.listdir('/Users/jeonghyeonjeong/ds001354-download/cntrl/')\n",
    "\n"
   ]
  },
  {
   "cell_type": "code",
   "execution_count": null,
   "metadata": {},
   "outputs": [],
   "source": [
    "data_paths = glob('/Users/jeonghyeonjeong/ds001354-download/cntrl/*/anat/*')"
   ]
  },
  {
   "cell_type": "code",
   "execution_count": null,
   "metadata": {},
   "outputs": [],
   "source": [
    "data_paths[-1]"
   ]
  }
 ],
 "metadata": {
  "kernelspec": {
   "display_name": "Python 3",
   "language": "python",
   "name": "python3"
  },
  "language_info": {
   "codemirror_mode": {
    "name": "ipython",
    "version": 3
   },
   "file_extension": ".py",
   "mimetype": "text/x-python",
   "name": "python",
   "nbconvert_exporter": "python",
   "pygments_lexer": "ipython3",
   "version": "3.6.9"
  }
 },
 "nbformat": 4,
 "nbformat_minor": 2
}
