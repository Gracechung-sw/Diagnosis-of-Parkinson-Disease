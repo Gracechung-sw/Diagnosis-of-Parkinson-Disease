{
 "cells": [
  {
   "cell_type": "markdown",
   "metadata": {},
   "source": [
    "### 3. Create Dataframe"
   ]
  },
  {
   "cell_type": "code",
   "execution_count": 14,
   "metadata": {},
   "outputs": [],
   "source": [
    "import os\n",
    "from glob import glob\n",
    "\n",
    "import nibabel as nib\n",
    "import matplotlib.pyplot as ptl\n",
    "import numpy as np\n",
    "import pandas as pd\n",
    "import tensorflow as tf\n",
    "\n",
    "import warnings\n",
    "warnings.filterwarnings(action='ignore')"
   ]
  },
  {
   "cell_type": "code",
   "execution_count": 2,
   "metadata": {},
   "outputs": [],
   "source": [
    "#1. Before Preprocess function\n",
    "\n",
    "def Before_Preprocess(data):\n",
    "    \n",
    "    brain_image = nib.load(data)\n",
    "    brain_image = brain_image.get_data()\n",
    "    brain_image_arr = np.asarray(brain_image)\n",
    "    \n",
    "    brain_slice = brain_image_arr[120, :, :]\n",
    "    \n",
    "    return brain_slice"
   ]
  },
  {
   "cell_type": "code",
   "execution_count": 3,
   "metadata": {},
   "outputs": [
    {
     "data": {
      "text/plain": [
       "TensorShape([14, 256, 176])"
      ]
     },
     "execution_count": 3,
     "metadata": {},
     "output_type": "execute_result"
    }
   ],
   "source": [
    "#2. After Before Preprocess, merge these images in ctrl_images\n",
    "ctrl_data_paths = glob('/Users/jeonghyeonjeong/ds001354-download/dataset/cntrl/*/anat/*')\n",
    "\n",
    "ctrl_images = []\n",
    "\n",
    "for image in ctrl_data_paths:\n",
    "    image = Before_Preprocess(image)\n",
    "    ctrl_images.append(image)\n",
    "    \n",
    "np.array(ctrl_images).shape\n",
    "ctrl_image_tensor = tf.convert_to_tensor(ctrl_images)\n",
    "ctrl_image_tensor.shape\n",
    "    "
   ]
  },
  {
   "cell_type": "code",
   "execution_count": 4,
   "metadata": {},
   "outputs": [
    {
     "data": {
      "text/plain": [
       "TensorShape([14, 256, 176])"
      ]
     },
     "execution_count": 4,
     "metadata": {},
     "output_type": "execute_result"
    }
   ],
   "source": [
    "#Same as pddn_image_tensor\n",
    "pddn_data_paths = glob('/Users/jeonghyeonjeong/ds001354-download/dataset/pddn/*/anat/*')\n",
    "pddn_data_paths[-1]\n",
    "\n",
    "# pddn_data_path에 있는 이미지데이터들을 모두 Before_Preprocess 함수 처리 해수기\n",
    "pddn_images = []\n",
    "\n",
    "for image in pddn_data_paths:\n",
    "    image = Before_Preprocess(image)\n",
    "    pddn_images.append(image)\n",
    "    \n",
    "np.array(pddn_images).shape\n",
    "pddn_image_tensor = tf.convert_to_tensor(pddn_images)\n",
    "pddn_image_tensor.shape"
   ]
  },
  {
   "cell_type": "markdown",
   "metadata": {},
   "source": [
    "### 1. 데이터 불러오기"
   ]
  },
  {
   "cell_type": "markdown",
   "metadata": {},
   "source": [
    "len(ctrl_data_paths), len(pddn_data_paths)\n",
    " 이 중에 하나만 뽑아서 ctrl label 줘보자\n",
    "path = ctrl_data_paths[0]\n",
    "path\n",
    "#os.path.basename(path) 하면 파일명만 가지고 온다. \n",
    "fname = os.path.basename(path)\n",
    "fname\n",
    "#여기서 cntrl만 가져온다."
   ]
  },
  {
   "cell_type": "code",
   "execution_count": 13,
   "metadata": {},
   "outputs": [],
   "source": [
    "#어짜피 ctrl, pddn 밖에 없으니까..\n",
    "class_names = ['ctrl', 'pddn']"
   ]
  },
  {
   "cell_type": "code",
   "execution_count": 15,
   "metadata": {},
   "outputs": [
    {
     "ename": "TypeError",
     "evalue": "'tuple' object is not callable",
     "output_type": "error",
     "traceback": [
      "\u001b[0;31m--------------------------------------------------------------------------\u001b[0m",
      "\u001b[0;31mTypeError\u001b[0m                                Traceback (most recent call last)",
      "\u001b[0;32m<ipython-input-15-e23b0c592d61>\u001b[0m in \u001b[0;36m<module>\u001b[0;34m\u001b[0m\n\u001b[1;32m      1\u001b[0m \u001b[0mctrl_data\u001b[0m \u001b[0;34m=\u001b[0m \u001b[0;34m{\u001b[0m\u001b[0;34m'name'\u001b[0m\u001b[0;34m:\u001b[0m\u001b[0mctrl_data_paths\u001b[0m\u001b[0;34m,\u001b[0m \u001b[0;34m'class'\u001b[0m\u001b[0;34m:\u001b[0m \u001b[0;34m'ctrl'\u001b[0m\u001b[0;34m}\u001b[0m\u001b[0;34m\u001b[0m\u001b[0;34m\u001b[0m\u001b[0m\n\u001b[1;32m      2\u001b[0m \u001b[0mctrl_data_df\u001b[0m \u001b[0;34m=\u001b[0m \u001b[0mpd\u001b[0m\u001b[0;34m.\u001b[0m\u001b[0mDataFrame\u001b[0m\u001b[0;34m(\u001b[0m\u001b[0mctrl_data\u001b[0m\u001b[0;34m)\u001b[0m\u001b[0;34m\u001b[0m\u001b[0;34m\u001b[0m\u001b[0m\n\u001b[0;32m----> 3\u001b[0;31m \u001b[0mctrl_data_df\u001b[0m\u001b[0;34m.\u001b[0m\u001b[0mshape\u001b[0m\u001b[0;34m(\u001b[0m\u001b[0;34m)\u001b[0m\u001b[0;34m\u001b[0m\u001b[0;34m\u001b[0m\u001b[0m\n\u001b[0m",
      "\u001b[0;31mTypeError\u001b[0m: 'tuple' object is not callable"
     ]
    }
   ],
   "source": [
    "ctrl_data = {'name':ctrl_data_paths, 'class': 'ctrl'}\n",
    "ctrl_data_df = pd.DataFrame(ctrl_data)\n",
    "ctrl_data_df.shape()"
   ]
  },
  {
   "cell_type": "code",
   "execution_count": null,
   "metadata": {},
   "outputs": [],
   "source": [
    "\n"
   ]
  },
  {
   "cell_type": "code",
   "execution_count": null,
   "metadata": {},
   "outputs": [],
   "source": []
  }
 ],
 "metadata": {
  "kernelspec": {
   "display_name": "Python 3",
   "language": "python",
   "name": "python3"
  },
  "language_info": {
   "codemirror_mode": {
    "name": "ipython",
    "version": 3
   },
   "file_extension": ".py",
   "mimetype": "text/x-python",
   "name": "python",
   "nbconvert_exporter": "python",
   "pygments_lexer": "ipython3",
   "version": "3.6.9"
  }
 },
 "nbformat": 4,
 "nbformat_minor": 2
}
