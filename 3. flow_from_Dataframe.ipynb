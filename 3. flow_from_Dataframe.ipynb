{
 "cells": [
  {
   "cell_type": "markdown",
   "metadata": {},
   "source": [
    "### 3. Create Dataframe"
   ]
  },
  {
   "cell_type": "code",
   "execution_count": 1,
   "metadata": {
    "scrolled": true
   },
   "outputs": [
    {
     "name": "stderr",
     "output_type": "stream",
     "text": [
      "/Users/jeonghyeonjeong/anaconda3/lib/python3.6/site-packages/dicom/__init__.py:53: UserWarning: \n",
      "This code is using an older version of pydicom, which is no longer \n",
      "maintained as of Jan 2017.  You can access the new pydicom features and API \n",
      "by installing `pydicom` from PyPI.\n",
      "See 'Transitioning to pydicom 1.x' section at pydicom.readthedocs.org \n",
      "for more information.\n",
      "\n",
      "  warnings.warn(msg)\n"
     ]
    }
   ],
   "source": [
    "import os\n",
    "from glob import glob\n",
    "\n",
    "import nibabel as nib\n",
    "import matplotlib.pyplot as ptl\n",
    "import numpy as np\n",
    "import pandas as pd\n",
    "import tensorflow as tf\n",
    "\n",
    "import warnings\n",
    "warnings.filterwarnings(action='ignore')"
   ]
  },
  {
   "cell_type": "code",
   "execution_count": 2,
   "metadata": {},
   "outputs": [],
   "source": [
    "#1. Before Preprocess function\n",
    "\n",
    "def Before_Preprocess(data):\n",
    "    \n",
    "    brain_image = nib.load(data)\n",
    "    brain_image = brain_image.get_data()\n",
    "    brain_image_arr = np.asarray(brain_image)\n",
    "    \n",
    "    brain_slice = brain_image_arr[120, :, :]\n",
    "    \n",
    "    return brain_slice"
   ]
  },
  {
   "cell_type": "code",
   "execution_count": 3,
   "metadata": {},
   "outputs": [
    {
     "data": {
      "text/plain": [
       "TensorShape([14, 256, 176])"
      ]
     },
     "execution_count": 3,
     "metadata": {},
     "output_type": "execute_result"
    }
   ],
   "source": [
    "#2. After Before Preprocess, merge these images in ctrl_images\n",
    "ctrl_data_paths = glob('/Users/jeonghyeonjeong/ds001354-download/dataset/cntrl/*/anat/*')\n",
    "\n",
    "ctrl_images = []\n",
    "\n",
    "for image in ctrl_data_paths:\n",
    "    image = Before_Preprocess(image)\n",
    "    ctrl_images.append(image)\n",
    "    \n",
    "np.array(ctrl_images).shape\n",
    "ctrl_image_tensor = tf.convert_to_tensor(ctrl_images)\n",
    "ctrl_image_tensor.shape\n",
    "    "
   ]
  },
  {
   "cell_type": "code",
   "execution_count": 4,
   "metadata": {},
   "outputs": [
    {
     "data": {
      "text/plain": [
       "TensorShape([14, 256, 176])"
      ]
     },
     "execution_count": 4,
     "metadata": {},
     "output_type": "execute_result"
    }
   ],
   "source": [
    "#Same as pddn_image_tensor\n",
    "pddn_data_paths = glob('/Users/jeonghyeonjeong/ds001354-download/dataset/pddn/*/anat/*')\n",
    "pddn_data_paths[-1]\n",
    "\n",
    "# pddn_data_path에 있는 이미지데이터들을 모두 Before_Preprocess 함수 처리 해수기\n",
    "pddn_images = []\n",
    "\n",
    "for image in pddn_data_paths:\n",
    "    image = Before_Preprocess(image)\n",
    "    pddn_images.append(image)\n",
    "    \n",
    "np.array(pddn_images).shape\n",
    "pddn_image_tensor = tf.convert_to_tensor(pddn_images)\n",
    "pddn_image_tensor.shape"
   ]
  },
  {
   "cell_type": "markdown",
   "metadata": {},
   "source": [
    "### 1.  create dataframe"
   ]
  },
  {
   "cell_type": "code",
   "execution_count": 16,
   "metadata": {},
   "outputs": [
    {
     "data": {
      "text/html": [
       "<div>\n",
       "<style scoped>\n",
       "    .dataframe tbody tr th:only-of-type {\n",
       "        vertical-align: middle;\n",
       "    }\n",
       "\n",
       "    .dataframe tbody tr th {\n",
       "        vertical-align: top;\n",
       "    }\n",
       "\n",
       "    .dataframe thead th {\n",
       "        text-align: right;\n",
       "    }\n",
       "</style>\n",
       "<table border=\"1\" class=\"dataframe\">\n",
       "  <thead>\n",
       "    <tr style=\"text-align: right;\">\n",
       "      <th></th>\n",
       "      <th>name</th>\n",
       "      <th>class</th>\n",
       "    </tr>\n",
       "  </thead>\n",
       "  <tbody>\n",
       "    <tr>\n",
       "      <td>0</td>\n",
       "      <td>/Users/jeonghyeonjeong/ds001354-download/datas...</td>\n",
       "      <td>ctrl</td>\n",
       "    </tr>\n",
       "    <tr>\n",
       "      <td>1</td>\n",
       "      <td>/Users/jeonghyeonjeong/ds001354-download/datas...</td>\n",
       "      <td>ctrl</td>\n",
       "    </tr>\n",
       "    <tr>\n",
       "      <td>2</td>\n",
       "      <td>/Users/jeonghyeonjeong/ds001354-download/datas...</td>\n",
       "      <td>ctrl</td>\n",
       "    </tr>\n",
       "    <tr>\n",
       "      <td>3</td>\n",
       "      <td>/Users/jeonghyeonjeong/ds001354-download/datas...</td>\n",
       "      <td>ctrl</td>\n",
       "    </tr>\n",
       "    <tr>\n",
       "      <td>4</td>\n",
       "      <td>/Users/jeonghyeonjeong/ds001354-download/datas...</td>\n",
       "      <td>ctrl</td>\n",
       "    </tr>\n",
       "  </tbody>\n",
       "</table>\n",
       "</div>"
      ],
      "text/plain": [
       "                                                name class\n",
       "0  /Users/jeonghyeonjeong/ds001354-download/datas...  ctrl\n",
       "1  /Users/jeonghyeonjeong/ds001354-download/datas...  ctrl\n",
       "2  /Users/jeonghyeonjeong/ds001354-download/datas...  ctrl\n",
       "3  /Users/jeonghyeonjeong/ds001354-download/datas...  ctrl\n",
       "4  /Users/jeonghyeonjeong/ds001354-download/datas...  ctrl"
      ]
     },
     "execution_count": 16,
     "metadata": {},
     "output_type": "execute_result"
    }
   ],
   "source": [
    "#create ctrl dataframe\n",
    "ctrl_data_paths[0]\n",
    "ctrl_data = {'name': ctrl_data_paths, 'class': 'ctrl'}\n",
    "ctrl_df = pd.DataFrame(ctrl_data)\n",
    "ctrl_df.head()"
   ]
  },
  {
   "cell_type": "code",
   "execution_count": 18,
   "metadata": {},
   "outputs": [
    {
     "data": {
      "text/html": [
       "<div>\n",
       "<style scoped>\n",
       "    .dataframe tbody tr th:only-of-type {\n",
       "        vertical-align: middle;\n",
       "    }\n",
       "\n",
       "    .dataframe tbody tr th {\n",
       "        vertical-align: top;\n",
       "    }\n",
       "\n",
       "    .dataframe thead th {\n",
       "        text-align: right;\n",
       "    }\n",
       "</style>\n",
       "<table border=\"1\" class=\"dataframe\">\n",
       "  <thead>\n",
       "    <tr style=\"text-align: right;\">\n",
       "      <th></th>\n",
       "      <th>name</th>\n",
       "      <th>class</th>\n",
       "    </tr>\n",
       "  </thead>\n",
       "  <tbody>\n",
       "    <tr>\n",
       "      <td>0</td>\n",
       "      <td>/Users/jeonghyeonjeong/ds001354-download/datas...</td>\n",
       "      <td>pddn</td>\n",
       "    </tr>\n",
       "    <tr>\n",
       "      <td>1</td>\n",
       "      <td>/Users/jeonghyeonjeong/ds001354-download/datas...</td>\n",
       "      <td>pddn</td>\n",
       "    </tr>\n",
       "    <tr>\n",
       "      <td>2</td>\n",
       "      <td>/Users/jeonghyeonjeong/ds001354-download/datas...</td>\n",
       "      <td>pddn</td>\n",
       "    </tr>\n",
       "    <tr>\n",
       "      <td>3</td>\n",
       "      <td>/Users/jeonghyeonjeong/ds001354-download/datas...</td>\n",
       "      <td>pddn</td>\n",
       "    </tr>\n",
       "    <tr>\n",
       "      <td>4</td>\n",
       "      <td>/Users/jeonghyeonjeong/ds001354-download/datas...</td>\n",
       "      <td>pddn</td>\n",
       "    </tr>\n",
       "  </tbody>\n",
       "</table>\n",
       "</div>"
      ],
      "text/plain": [
       "                                                name class\n",
       "0  /Users/jeonghyeonjeong/ds001354-download/datas...  pddn\n",
       "1  /Users/jeonghyeonjeong/ds001354-download/datas...  pddn\n",
       "2  /Users/jeonghyeonjeong/ds001354-download/datas...  pddn\n",
       "3  /Users/jeonghyeonjeong/ds001354-download/datas...  pddn\n",
       "4  /Users/jeonghyeonjeong/ds001354-download/datas...  pddn"
      ]
     },
     "execution_count": 18,
     "metadata": {},
     "output_type": "execute_result"
    }
   ],
   "source": [
    "#create pddn dataframe\n",
    "pddn_data_paths[0]\n",
    "pddn_data = {'name': pddn_data_paths, 'class': 'pddn'}\n",
    "pddn_df = pd.DataFrame(pddn_data)\n",
    "pddn_df.head()"
   ]
  },
  {
   "cell_type": "markdown",
   "metadata": {},
   "source": [
    "### 2. Create Dataset"
   ]
  },
  {
   "cell_type": "code",
   "execution_count": null,
   "metadata": {},
   "outputs": [],
   "source": []
  }
 ],
 "metadata": {
  "kernelspec": {
   "display_name": "Python 3",
   "language": "python",
   "name": "python3"
  },
  "language_info": {
   "codemirror_mode": {
    "name": "ipython",
    "version": 3
   },
   "file_extension": ".py",
   "mimetype": "text/x-python",
   "name": "python",
   "nbconvert_exporter": "python",
   "pygments_lexer": "ipython3",
   "version": "3.6.9"
  }
 },
 "nbformat": 4,
 "nbformat_minor": 2
}
