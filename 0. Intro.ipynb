{
 "cells": [
  {
   "cell_type": "markdown",
   "metadata": {},
   "source": [
    "# <Applying Convolution Neural Networks for Pre-detection of Parkinson's Disease>"
   ]
  },
  {
   "cell_type": "markdown",
   "metadata": {},
   "source": [
    "## Contents\n",
    " > 0. prepare data \n",
    " > 1. preprocessing image\n",
    " > 2. Preprocessing\n",
    " >> 1. resize\n",
    " >> 2. flatten format\n",
    " >> 3. merge all the layers of the image into single layer\n",
    " >> 4. labeling (cntrl, pddn)\n",
    " >> 5. shuffle\n",
    " >> 6. train 80/test 20 dataset split\n",
    " >> 7. "
   ]
  },
  {
   "cell_type": "code",
   "execution_count": null,
   "metadata": {},
   "outputs": [],
   "source": []
  }
 ],
 "metadata": {
  "kernelspec": {
   "display_name": "Python 3",
   "language": "python",
   "name": "python3"
  },
  "language_info": {
   "codemirror_mode": {
    "name": "ipython",
    "version": 3
   },
   "file_extension": ".py",
   "mimetype": "text/x-python",
   "name": "python",
   "nbconvert_exporter": "python",
   "pygments_lexer": "ipython3",
   "version": "3.6.9"
  }
 },
 "nbformat": 4,
 "nbformat_minor": 2
}
